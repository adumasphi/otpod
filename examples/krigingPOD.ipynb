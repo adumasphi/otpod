{
 "cells": [
  {
   "cell_type": "raw",
   "metadata": {},
   "source": [
    "`ipynb source code <krigingPOD.ipynb>`_"
   ]
  },
  {
   "cell_type": "markdown",
   "metadata": {},
   "source": [
    "# Kriging POD"
   ]
  },
  {
   "cell_type": "code",
   "execution_count": 1,
   "metadata": {
    "collapsed": true
   },
   "outputs": [],
   "source": [
    "# import relevant module\n",
    "import openturns as ot\n",
    "import otpod\n",
    "# enable display figure in notebook\n",
    "%matplotlib inline\n",
    "from time import time"
   ]
  },
  {
   "cell_type": "markdown",
   "metadata": {},
   "source": [
    "## Generate data"
   ]
  },
  {
   "cell_type": "code",
   "execution_count": 2,
   "metadata": {
    "collapsed": false
   },
   "outputs": [],
   "source": [
    "inputSample = ot.NumericalSample(\n",
    "    [[4.59626812e+00, 7.46143339e-02, 1.02231538e+00, 8.60042277e+01],\n",
    "    [4.14315790e+00, 4.20801346e-02, 1.05874908e+00, 2.65757364e+01],\n",
    "    [4.76735111e+00, 3.72414824e-02, 1.05730385e+00, 5.76058433e+01],\n",
    "    [4.82811977e+00, 2.49997658e-02, 1.06954641e+00, 2.54461380e+01],\n",
    "    [4.48961094e+00, 3.74562922e-02, 1.04943946e+00, 6.19483646e+00],\n",
    "    [5.05605334e+00, 4.87599783e-02, 1.06520409e+00, 3.39024904e+00],\n",
    "    [5.69679328e+00, 7.74915877e-02, 1.04099514e+00, 6.50990466e+01],\n",
    "    [5.10193991e+00, 4.35520544e-02, 1.02502536e+00, 5.51492592e+01],\n",
    "    [4.04791970e+00, 2.38565932e-02, 1.01906882e+00, 2.07875350e+01],\n",
    "    [4.66238956e+00, 5.49901237e-02, 1.02427200e+00, 1.45661275e+01],\n",
    "    [4.86634219e+00, 6.04693570e-02, 1.08199374e+00, 1.05104730e+00],\n",
    "    [4.13519347e+00, 4.45225831e-02, 1.01900124e+00, 5.10117047e+01],\n",
    "    [4.92541940e+00, 7.87692335e-02, 9.91868726e-01, 8.32302238e+01],\n",
    "    [4.70722074e+00, 6.51799251e-02, 1.10608515e+00, 3.30181002e+01],\n",
    "    [4.29040932e+00, 1.75426222e-02, 9.75678838e-01, 2.28186756e+01],\n",
    "    [4.89291400e+00, 2.34997929e-02, 1.07669835e+00, 5.38926138e+01],\n",
    "    [4.44653744e+00, 7.63175936e-02, 1.06979154e+00, 5.19109415e+01],\n",
    "    [3.99977452e+00, 5.80430585e-02, 1.01850716e+00, 7.61988190e+01],\n",
    "    [3.95491570e+00, 1.09302814e-02, 1.03687664e+00, 6.09981789e+01],\n",
    "    [5.16424368e+00, 2.69026464e-02, 1.06673711e+00, 2.88708887e+01],\n",
    "    [5.30491620e+00, 4.53802273e-02, 1.06254792e+00, 3.03856837e+01],\n",
    "    [4.92809155e+00, 1.20616369e-02, 1.00700410e+00, 7.02512744e+00],\n",
    "    [4.68373805e+00, 6.26028935e-02, 1.05152117e+00, 4.81271603e+01],\n",
    "    [5.32381954e+00, 4.33013582e-02, 9.90522007e-01, 6.56015973e+01],\n",
    "    [4.35455857e+00, 1.23814619e-02, 1.01810539e+00, 1.10769534e+01]])\n",
    "\n",
    "signals = ot.NumericalSample(\n",
    "    [[ 37.305445], [ 35.466919], [ 43.187991], [ 45.305165], [ 40.121222], [ 44.609524],\n",
    "     [ 45.14552 ], [ 44.80595 ], [ 35.414039], [ 39.851778], [ 42.046049], [ 34.73469 ],\n",
    "     [ 39.339349], [ 40.384559], [ 38.718623], [ 46.189709], [ 36.155737], [ 31.768369],\n",
    "     [ 35.384313], [ 47.914584], [ 46.758537], [ 46.564428], [ 39.698493], [ 45.636588],\n",
    "     [ 40.643948]])"
   ]
  },
  {
   "cell_type": "markdown",
   "metadata": {},
   "source": [
    "## Build POD with Kriging model"
   ]
  },
  {
   "cell_type": "code",
   "execution_count": 3,
   "metadata": {
    "collapsed": false
   },
   "outputs": [
    {
     "name": "stderr",
     "output_type": "stream",
     "text": [
      "INFO:root:Censored data are not taken into account : the kriging model is only built on filtered data.\n"
     ]
    }
   ],
   "source": [
    "# signal detection threshold\n",
    "detection = 38.\n",
    "# The POD with censored data actually builds a POD only on filtered data.\n",
    "# A warning is diplayed in this case.\n",
    "POD = otpod.KrigingPOD(inputSample, signals, detection,\n",
    "                       noiseThres=35., saturationThres=45.)"
   ]
  },
  {
   "cell_type": "markdown",
   "metadata": {},
   "source": [
    "### User-defined defect sizes\n",
    "\n",
    "The user-defined defect sizes must range between the minimum and\n",
    "maximum of the defect values after filtering. An error is raised if \n",
    "it is not the case. The available range is then returned to the user."
   ]
  },
  {
   "cell_type": "code",
   "execution_count": 4,
   "metadata": {
    "collapsed": false
   },
   "outputs": [
    {
     "name": "stdout",
     "output_type": "stream",
     "text": [
      "Default defect sizes : \n",
      "[ 3.9549157   4.0152854   4.07565509  4.13602479  4.19639448  4.25676418\n",
      "  4.31713387  4.37750357  4.43787326  4.49824296  4.55861265  4.61898235\n",
      "  4.67935204  4.73972174  4.80009143  4.86046113  4.92083082  4.98120052\n",
      "  5.04157021  5.10193991]\n"
     ]
    },
    {
     "ename": "ValueError",
     "evalue": "Defect sizes must range between 3.9550 and 5.1019.",
     "output_type": "error",
     "traceback": [
      "\u001b[1;31m---------------------------------------------------------------------------\u001b[0m",
      "\u001b[1;31mValueError\u001b[0m                                Traceback (most recent call last)",
      "\u001b[1;32m<ipython-input-4-af50a2a6fa25>\u001b[0m in \u001b[0;36m<module>\u001b[1;34m()\u001b[0m\n\u001b[0;32m      4\u001b[0m \u001b[1;33m\u001b[0m\u001b[0m\n\u001b[0;32m      5\u001b[0m \u001b[1;31m# Wrong range\u001b[0m\u001b[1;33m\u001b[0m\u001b[1;33m\u001b[0m\u001b[0m\n\u001b[1;32m----> 6\u001b[1;33m \u001b[0mPOD\u001b[0m\u001b[1;33m.\u001b[0m\u001b[0msetDefectSizes\u001b[0m\u001b[1;33m(\u001b[0m\u001b[1;33m[\u001b[0m\u001b[1;36m3.2\u001b[0m\u001b[1;33m,\u001b[0m \u001b[1;36m3.6\u001b[0m\u001b[1;33m,\u001b[0m \u001b[1;36m4.5\u001b[0m\u001b[1;33m,\u001b[0m \u001b[1;36m5.5\u001b[0m\u001b[1;33m]\u001b[0m\u001b[1;33m)\u001b[0m\u001b[1;33m\u001b[0m\u001b[0m\n\u001b[0m",
      "\u001b[1;32m/home/dumas/projet/ByPASS_pmpr635/otpod/otpod/_kriging_pod.pyc\u001b[0m in \u001b[0;36msetDefectSizes\u001b[1;34m(self, size)\u001b[0m\n\u001b[0;32m    375\u001b[0m             raise ValueError('Defect sizes must range between ' + \\\n\u001b[0;32m    376\u001b[0m                              \u001b[1;34m'{:0.4f} '\u001b[0m\u001b[1;33m.\u001b[0m\u001b[0mformat\u001b[0m\u001b[1;33m(\u001b[0m\u001b[0mnp\u001b[0m\u001b[1;33m.\u001b[0m\u001b[0mceil\u001b[0m\u001b[1;33m(\u001b[0m\u001b[0mminMin\u001b[0m\u001b[1;33m*\u001b[0m\u001b[1;36m10000\u001b[0m\u001b[1;33m)\u001b[0m\u001b[1;33m/\u001b[0m\u001b[1;36m10000\u001b[0m\u001b[1;33m)\u001b[0m \u001b[1;33m+\u001b[0m\u001b[0;31m \u001b[0m\u001b[0;31m\\\u001b[0m\u001b[1;33m\u001b[0m\u001b[0m\n\u001b[1;32m--> 377\u001b[1;33m                              'and {:0.4f}.'.format(np.floor(maxMax*10000)/10000))\n\u001b[0m\u001b[0;32m    378\u001b[0m         \u001b[0mself\u001b[0m\u001b[1;33m.\u001b[0m\u001b[0m_defectNumber\u001b[0m \u001b[1;33m=\u001b[0m \u001b[0mself\u001b[0m\u001b[1;33m.\u001b[0m\u001b[0m_defectSizes\u001b[0m\u001b[1;33m.\u001b[0m\u001b[0mshape\u001b[0m\u001b[1;33m[\u001b[0m\u001b[1;36m0\u001b[0m\u001b[1;33m]\u001b[0m\u001b[1;33m\u001b[0m\u001b[0m\n\u001b[0;32m    379\u001b[0m \u001b[1;33m\u001b[0m\u001b[0m\n",
      "\u001b[1;31mValueError\u001b[0m: Defect sizes must range between 3.9550 and 5.1019."
     ]
    }
   ],
   "source": [
    "# Default defect sizes\n",
    "print 'Default defect sizes : '\n",
    "print POD.getDefectSizes()\n",
    "\n",
    "# Wrong range\n",
    "POD.setDefectSizes([3.2, 3.6, 4.5, 5.5])"
   ]
  },
  {
   "cell_type": "code",
   "execution_count": 5,
   "metadata": {
    "collapsed": false
   },
   "outputs": [
    {
     "name": "stdout",
     "output_type": "stream",
     "text": [
      "User-defined defect size : \n",
      "[ 4.   4.3  4.6  4.9  5.1]\n"
     ]
    }
   ],
   "source": [
    "# Good range\n",
    "POD.setDefectSizes([4., 4.3, 4.6, 4.9, 5.1])\n",
    "print 'User-defined defect size : '\n",
    "print POD.getDefectSizes()"
   ]
  },
  {
   "cell_type": "markdown",
   "metadata": {},
   "source": [
    "### Running the polynomial chaos based POD\n",
    "\n",
    "The computing time can be reduced by setting the simulation size attribute to \n",
    "another value. However the confidence interval is less accurate.\n",
    "\n",
    "The sampling size is the number of the samples used to compute the POD\n",
    "with the Monte Carlo simulation for each defect sizes.\n",
    "\n",
    "A progress is displayed, which can be disabled with the method *setVerbose*."
   ]
  },
  {
   "cell_type": "code",
   "execution_count": 6,
   "metadata": {
    "collapsed": false
   },
   "outputs": [
    {
     "name": "stdout",
     "output_type": "stream",
     "text": [
      "Start optimizing covariance model parameters...\n",
      "Kriging optimizer completed\n",
      "Computing POD per defect: [==================================================] 100% Done\n",
      "Computing time : 105.60 s\n"
     ]
    }
   ],
   "source": [
    "# Computing the confidence interval in the run takes few minutes.\n",
    "t0 = time()\n",
    "POD = otpod.KrigingPOD(inputSample, signals, detection)\n",
    "# we can change the number of initial random search for the best starting point\n",
    "# of the TNC algorithm which optimizes the covariance model parameters\n",
    "POD.setInitialStartSize(500) # default is 1000\n",
    "# we can change the sample size of the Monte Carlo simulation\n",
    "POD.setSamplingSize(2000) # default is 10000\n",
    "# we can also change the size of the simulation to compute the confidence interval\n",
    "POD.setSimulationSize(500) # default is 1000\n",
    "POD.run()\n",
    "print 'Computing time : {:0.2f} s'.format(time()-t0) "
   ]
  },
  {
   "cell_type": "markdown",
   "metadata": {},
   "source": [
    "## Compute detection size"
   ]
  },
  {
   "cell_type": "code",
   "execution_count": 7,
   "metadata": {
    "collapsed": false
   },
   "outputs": [
    {
     "name": "stdout",
     "output_type": "stream",
     "text": [
      "[a90 : 4.63017, a90/95 : 4.63797]\n",
      "[a95 : 4.66991, a95/99 : 4.67766]\n"
     ]
    }
   ],
   "source": [
    "# Detection size at probability level 0.9\n",
    "# and confidence level 0.95\n",
    "print POD.computeDetectionSize(0.9, 0.95)\n",
    "\n",
    "# probability level 0.95 with confidence level 0.99\n",
    "print POD.computeDetectionSize(0.95, 0.99)"
   ]
  },
  {
   "cell_type": "markdown",
   "metadata": {},
   "source": [
    "## get POD NumericalMathFunction"
   ]
  },
  {
   "cell_type": "code",
   "execution_count": 8,
   "metadata": {
    "collapsed": false
   },
   "outputs": [
    {
     "name": "stdout",
     "output_type": "stream",
     "text": [
      "POD : 0.153\n",
      "POD at level 0.95 : 0.140\n"
     ]
    }
   ],
   "source": [
    "# get the POD model\n",
    "PODmodel = POD.getPODModel()\n",
    "# get the POD model at the given confidence level\n",
    "PODmodelCl95 = POD.getPODCLModel(0.95)\n",
    "\n",
    "# compute the probability of detection for a given defect value\n",
    "print 'POD : {:0.3f}'.format(PODmodel([4.2])[0])\n",
    "print 'POD at level 0.95 : {:0.3f}'.format(PODmodelCl95([4.2])[0])"
   ]
  },
  {
   "cell_type": "markdown",
   "metadata": {},
   "source": [
    "## Compute the Q2\n",
    "Enable to check the quality of the model."
   ]
  },
  {
   "cell_type": "code",
   "execution_count": 9,
   "metadata": {
    "collapsed": false
   },
   "outputs": [
    {
     "name": "stdout",
     "output_type": "stream",
     "text": [
      "Q2 : 1.0000\n"
     ]
    }
   ],
   "source": [
    "print 'Q2 : {:0.4f}'.format(POD.getQ2())"
   ]
  },
  {
   "cell_type": "markdown",
   "metadata": {},
   "source": [
    "### Draw the validation graph\n",
    "The predictions are the one computed by leave one out."
   ]
  },
  {
   "cell_type": "code",
   "execution_count": 19,
   "metadata": {
    "collapsed": false
   },
   "outputs": [
    {
     "data": {
      "image/png": "[encoded data removed]",
      "text/plain": [
       "<matplotlib.figure.Figure at 0x7f6ccd091450>"
      ]
     },
     "metadata": {},
     "output_type": "display_data"
    }
   ],
   "source": [
    "fig, ax = POD.drawValidationGraph()\n",
    "fig.show()"
   ]
  },
  {
   "cell_type": "markdown",
   "metadata": {},
   "source": [
    "## Show POD graphs\n",
    "### Mean POD and POD at confidence level with the detection size for a given probability level"
   ]
  },
  {
   "cell_type": "code",
   "execution_count": 11,
   "metadata": {
    "collapsed": false
   },
   "outputs": [
    {
     "data": {
      "image/png": "[encoded data removed]",
      "text/plain": [
       "<matplotlib.figure.Figure at 0x7f6ccf803510>"
      ]
     },
     "metadata": {},
     "output_type": "display_data"
    }
   ],
   "source": [
    "fig, ax = POD.drawPOD(probabilityLevel=0.9, confidenceLevel=0.95,\n",
    "                      name='figure/PODKriging.png')\n",
    "# The figure is saved in PODPolyChaos.png\n",
    "fig.show()"
   ]
  },
  {
   "cell_type": "markdown",
   "metadata": {
    "collapsed": true
   },
   "source": [
    "## Advanced user mode\n",
    "\n",
    "The user can defined one or both parameters of the kriging algorithm : \n",
    "- the basis\n",
    "- the covariance model\n",
    "\n",
    "The user can also defined the input parameter distribution it is known.\n",
    "\n",
    "The user can set the KrigingResult object if it built from other data."
   ]
  },
  {
   "cell_type": "code",
   "execution_count": 12,
   "metadata": {
    "collapsed": false
   },
   "outputs": [],
   "source": [
    "# new POD study\n",
    "PODnew = otpod.KrigingPOD(inputSample, signals, detection)"
   ]
  },
  {
   "cell_type": "code",
   "execution_count": 13,
   "metadata": {
    "collapsed": true
   },
   "outputs": [],
   "source": [
    "# set the basis constant\n",
    "basis = ot.ConstantBasisFactory(4).build()\n",
    "\n",
    "PODnew.setBasis(basis)"
   ]
  },
  {
   "cell_type": "code",
   "execution_count": 14,
   "metadata": {
    "collapsed": true
   },
   "outputs": [],
   "source": [
    "# set the covariance Model as an absolute exponential model\n",
    "covColl = ot.CovarianceModelCollection(4)\n",
    "for i in xrange(4):\n",
    "    covColl[i]  = ot.AbsoluteExponential(1, 1.)\n",
    "covarianceModel = ot.ProductCovarianceModel(covColl)\n",
    "\n",
    "PODnew.setCovarianceModel(covarianceModel)"
   ]
  },
  {
   "cell_type": "code",
   "execution_count": 15,
   "metadata": {
    "collapsed": false,
    "scrolled": true
   },
   "outputs": [
    {
     "name": "stdout",
     "output_type": "stream",
     "text": [
      "Start optimizing covariance model parameters...\n",
      "Kriging optimizer completed\n",
      "Computing POD per defect: [==================================================] 100% Done\n"
     ]
    }
   ],
   "source": [
    "PODnew.setSamplingSize(500)\n",
    "PODnew.run()"
   ]
  },
  {
   "cell_type": "code",
   "execution_count": 16,
   "metadata": {
    "collapsed": false
   },
   "outputs": [
    {
     "name": "stdout",
     "output_type": "stream",
     "text": [
      "[a90 : 4.64149, a90/95 : 4.76522]\n",
      "Q2 : 1.0000\n"
     ]
    }
   ],
   "source": [
    "print PODnew.computeDetectionSize(0.9, 0.95)\n",
    "print 'Q2 : {:0.4f}'.format(POD.getQ2())"
   ]
  },
  {
   "cell_type": "code",
   "execution_count": 17,
   "metadata": {
    "collapsed": false
   },
   "outputs": [
    {
     "data": {
      "image/png": "[encoded data removed]",
      "text/plain": [
       "<matplotlib.figure.Figure at 0x7f6ccd294110>"
      ]
     },
     "metadata": {},
     "output_type": "display_data"
    }
   ],
   "source": [
    "fig, ax = PODnew.drawPOD(probabilityLevel=0.9, confidenceLevel=0.95)\n",
    "fig.show()"
   ]
  },
  {
   "cell_type": "code",
   "execution_count": 18,
   "metadata": {
    "collapsed": false
   },
   "outputs": [
    {
     "data": {
      "image/png": "[encoded data removed]",
      "text/plain": [
       "<matplotlib.figure.Figure at 0x7f6ccd2f4250>"
      ]
     },
     "metadata": {},
     "output_type": "display_data"
    }
   ],
   "source": [
    "fig, ax = PODnew.drawValidationGraph()\n",
    "fig.show()"
   ]
  },
  {
   "cell_type": "code",
   "execution_count": null,
   "metadata": {
    "collapsed": true
   },
   "outputs": [],
   "source": []
  }
 ],
 "metadata": {
  "kernelspec": {
   "display_name": "Python 2",
   "language": "python",
   "name": "python2"
  },
  "language_info": {
   "codemirror_mode": {
    "name": "ipython",
    "version": 2
   },
   "file_extension": ".py",
   "mimetype": "text/x-python",
   "name": "python",
   "nbconvert_exporter": "python",
   "pygments_lexer": "ipython2",
   "version": "2.7.11"
  }
 },
 "nbformat": 4,
 "nbformat_minor": 0
}
