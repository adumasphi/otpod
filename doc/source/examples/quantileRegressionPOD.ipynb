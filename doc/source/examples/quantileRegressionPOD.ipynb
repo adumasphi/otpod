{
 "cells": [
  {
   "cell_type": "raw",
   "metadata": {},
   "source": [
    "`ipynb source code <quantileRegressionPOD.ipynb>`_"
   ]
  },
  {
   "cell_type": "markdown",
   "metadata": {},
   "source": [
    "# Qantile Regression POD"
   ]
  },
  {
   "cell_type": "code",
   "execution_count": 1,
   "metadata": {
    "collapsed": true
   },
   "outputs": [],
   "source": [
    "# import relevant module\n",
    "import openturns as ot\n",
    "import otpod\n",
    "# enable display figure in notebook\n",
    "%matplotlib inline\n",
    "from time import time"
   ]
  },
  {
   "cell_type": "markdown",
   "metadata": {},
   "source": [
    "## Generate data"
   ]
  },
  {
   "cell_type": "code",
   "execution_count": 2,
   "metadata": {
    "collapsed": false
   },
   "outputs": [],
   "source": [
    "N = 100\n",
    "ot.RandomGenerator.SetSeed(123456)\n",
    "defectDist = ot.Uniform(0.1, 0.6)\n",
    "# normal epsilon distribution\n",
    "epsilon = ot.Normal(0, 1.9)\n",
    "defects = defectDist.getSample(N)\n",
    "signalsInvBoxCox = defects * 43. + epsilon.getSample(N) + 2.5\n",
    "# Inverse Box Cox transformation\n",
    "invBoxCox = ot.InverseBoxCoxTransform(0.3)\n",
    "signals = invBoxCox(signalsInvBoxCox)"
   ]
  },
  {
   "cell_type": "markdown",
   "metadata": {},
   "source": [
    "## Build POD with quantile regression technique"
   ]
  },
  {
   "cell_type": "code",
   "execution_count": 3,
   "metadata": {
    "collapsed": false
   },
   "outputs": [
    {
     "name": "stderr",
     "output_type": "stream",
     "text": [
      "INFO:root:Censored data are not taken into account : the quantile regression model is only performed on filtered data.\n"
     ]
    }
   ],
   "source": [
    "# signal detection threshold\n",
    "detection = 200.\n",
    "# The POD with censored data actually builds a POD only on filtered data.\n",
    "# A warning is diplayed in this case.\n",
    "POD = otpod.QuantileRegressionPOD(defects, signals, detection,\n",
    "                                  noiseThres=60., saturationThres=1700.,\n",
    "                                  boxCox=True)"
   ]
  },
  {
   "cell_type": "markdown",
   "metadata": {},
   "source": [
    "### Quantile user-defined"
   ]
  },
  {
   "cell_type": "code",
   "execution_count": 4,
   "metadata": {
    "collapsed": false
   },
   "outputs": [
    {
     "name": "stdout",
     "output_type": "stream",
     "text": [
      "Default quantile : \n",
      "[ 0.05    0.0965  0.143   0.1895  0.236   0.2825  0.329   0.3755  0.422\n",
      "  0.4685  0.515   0.5615  0.608   0.6545  0.701   0.7475  0.794   0.8405\n",
      "  0.887   0.9335  0.98  ]\n",
      "User-defined quantile : \n",
      "[ 0.1   0.3   0.5   0.7   0.8   0.85  0.9   0.95]\n"
     ]
    }
   ],
   "source": [
    "# Default quantile values\n",
    "print 'Default quantile : '\n",
    "print POD.getQuantile()\n",
    "# Defining user quantile, they must range between 0 and 1.\n",
    "POD.setQuantile([0.1, 0.3, 0.5, 0.7, 0.8, 0.85, 0.9, 0.95])\n",
    "print 'User-defined quantile : '\n",
    "print POD.getQuantile()"
   ]
  },
  {
   "cell_type": "markdown",
   "metadata": {},
   "source": [
    "### Running quantile regression POD"
   ]
  },
  {
   "cell_type": "code",
   "execution_count": 5,
   "metadata": {
    "collapsed": false
   },
   "outputs": [
    {
     "name": "stdout",
     "output_type": "stream",
     "text": [
      "Computing defect quantile: [==================================================] 100% Done\n",
      "Computing time : 160.07 s\n"
     ]
    }
   ],
   "source": [
    "# Due to the bootstrap technique used to compute the confidence\n",
    "# interval, the run takes few minutes.\n",
    "# A progress bar is displayed (can be removed using setVerbose(False))\n",
    "t0 = time()\n",
    "POD = otpod.QuantileRegressionPOD(defects, signals, detection,\n",
    "                                  boxCox=True)\n",
    "POD.run()\n",
    "print 'Computing time : {:0.2f} s'.format(time()-t0) "
   ]
  },
  {
   "cell_type": "markdown",
   "metadata": {},
   "source": [
    "The computing time can be reduced by setting the simulation size attribute to \n",
    "another value. However the confidence interval is less accurate.\n",
    "\n",
    "The number of quantile values can also be reduced to save time."
   ]
  },
  {
   "cell_type": "code",
   "execution_count": 6,
   "metadata": {
    "collapsed": false
   },
   "outputs": [
    {
     "name": "stdout",
     "output_type": "stream",
     "text": [
      "Computing defect quantile: [==================================================] 100% Done\n",
      "Computing time : 16.44 s\n"
     ]
    }
   ],
   "source": [
    "t0 = time()\n",
    "PODsimulSize100 = otpod.QuantileRegressionPOD(defects, signals, detection,\n",
    "                                  boxCox=True)\n",
    "PODsimulSize100.setSimulationSize(100) # default is 1000\n",
    "PODsimulSize100.run()\n",
    "print 'Computing time : {:0.2f} s'.format(time()-t0) "
   ]
  },
  {
   "cell_type": "markdown",
   "metadata": {},
   "source": [
    "## Compute detection size"
   ]
  },
  {
   "cell_type": "code",
   "execution_count": 7,
   "metadata": {
    "collapsed": false
   },
   "outputs": [
    {
     "name": "stdout",
     "output_type": "stream",
     "text": [
      "[a90 : 0.298115, a90/95 : 0.328775]\n",
      "[a95 : 0.331931, a95/99 : 0.372112]\n"
     ]
    }
   ],
   "source": [
    "# Detection size at probability level 0.9\n",
    "# and confidence level 0.95\n",
    "print POD.computeDetectionSize(0.9, 0.95)\n",
    "\n",
    "# probability level 0.95 with confidence level 0.99\n",
    "print POD.computeDetectionSize(0.95, 0.99)"
   ]
  },
  {
   "cell_type": "markdown",
   "metadata": {},
   "source": [
    "## get POD NumericalMathFunction"
   ]
  },
  {
   "cell_type": "code",
   "execution_count": 8,
   "metadata": {
    "collapsed": false
   },
   "outputs": [
    {
     "name": "stdout",
     "output_type": "stream",
     "text": [
      "POD : 0.899\n",
      "POD at level 0.95 : 0.832\n"
     ]
    }
   ],
   "source": [
    "# get the POD model\n",
    "PODmodel = POD.getPODModel()\n",
    "# get the POD model at the given confidence level\n",
    "PODmodelCl95 = POD.getPODCLModel(0.95)\n",
    "\n",
    "# compute the probability of detection for a given defect value\n",
    "print 'POD : {:0.3f}'.format(PODmodel([0.3])[0])\n",
    "print 'POD at level 0.95 : {:0.3f}'.format(PODmodelCl95([0.3])[0])"
   ]
  },
  {
   "cell_type": "markdown",
   "metadata": {},
   "source": [
    "## Compute the pseudo R2 for a given quantile"
   ]
  },
  {
   "cell_type": "code",
   "execution_count": 9,
   "metadata": {
    "collapsed": false
   },
   "outputs": [
    {
     "name": "stdout",
     "output_type": "stream",
     "text": [
      "Pseudo R2 for quantile 0.9 : 0.675\n",
      "Pseudo R2 for quantile 0.95 : 0.656\n"
     ]
    }
   ],
   "source": [
    "print 'Pseudo R2 for quantile 0.9 : {:0.3f}'.format(POD.getR2(0.9))\n",
    "print 'Pseudo R2 for quantile 0.95 : {:0.3f}'.format(POD.getR2(0.95))"
   ]
  },
  {
   "cell_type": "markdown",
   "metadata": {},
   "source": [
    "## Show POD graphs\n",
    "### Mean POD and POD at confidence level with the detection size for a given probability level"
   ]
  },
  {
   "cell_type": "code",
   "execution_count": 11,
   "metadata": {
    "collapsed": false
   },
   "outputs": [
    {
     "data": {
      "image/png": "[encoded data removed]",
      "text/plain": [
       "<matplotlib.figure.Figure at 0x7f4509035910>"
      ]
     },
     "metadata": {},
     "output_type": "display_data"
    }
   ],
   "source": [
    "fig, ax = POD.drawPOD(probabilityLevel=0.9, confidenceLevel=0.95,\n",
    "                      name='figure/PODQuantReg.png')\n",
    "# The figure is saved in PODQuantReg.png\n",
    "fig.show()"
   ]
  },
  {
   "cell_type": "markdown",
   "metadata": {},
   "source": [
    "### Show the linear regression model at the given quantile "
   ]
  },
  {
   "cell_type": "code",
   "execution_count": 12,
   "metadata": {
    "collapsed": false
   },
   "outputs": [
    {
     "data": {
      "image/png": "[encoded data removed]",
      "text/plain": [
       "<matplotlib.figure.Figure at 0x7f4508f945d0>"
      ]
     },
     "metadata": {},
     "output_type": "display_data"
    }
   ],
   "source": [
    "fig, ax = POD.drawLinearModel(0.9)\n",
    "fig.show()"
   ]
  },
  {
   "cell_type": "code",
   "execution_count": null,
   "metadata": {
    "collapsed": true
   },
   "outputs": [],
   "source": []
  }
 ],
 "metadata": {
  "kernelspec": {
   "display_name": "Python 2",
   "language": "python",
   "name": "python2"
  },
  "language_info": {
   "codemirror_mode": {
    "name": "ipython",
    "version": 2
   },
   "file_extension": ".py",
   "mimetype": "text/x-python",
   "name": "python",
   "nbconvert_exporter": "python",
   "pygments_lexer": "ipython2",
   "version": "2.7.11"
  }
 },
 "nbformat": 4,
 "nbformat_minor": 0
}
