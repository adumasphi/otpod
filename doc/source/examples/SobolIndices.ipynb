{
 "cells": [
  {
   "cell_type": "raw",
   "metadata": {},
   "source": [
    "`ipynb source code <SobolIndices.ipynb>`_"
   ]
  },
  {
   "cell_type": "markdown",
   "metadata": {},
   "source": [
    "# Sobol Indices\n",
    "\n",
    "It is required to first build a POD object based on the Kriging metamodel or on the polynomial chaos in order to compute the Sobol indices. It also can be used only if the input parameters dimension is greater than 2 (without counting the defect)."
   ]
  },
  {
   "cell_type": "code",
   "execution_count": 1,
   "metadata": {
    "collapsed": true
   },
   "outputs": [],
   "source": [
    "# import relevant module\n",
    "import openturns as ot\n",
    "import otpod\n",
    "# enable display figure in notebook\n",
    "%matplotlib inline"
   ]
  },
  {
   "cell_type": "markdown",
   "metadata": {},
   "source": [
    "## Generate data"
   ]
  },
  {
   "cell_type": "code",
   "execution_count": 2,
   "metadata": {
    "collapsed": false
   },
   "outputs": [],
   "source": [
    "inputSample = ot.NumericalSample(\n",
    "    [[4.59626812e+00, 7.46143339e-02, 1.02231538e+00, 8.60042277e+01],\n",
    "    [4.14315790e+00, 4.20801346e-02, 1.05874908e+00, 2.65757364e+01],\n",
    "    [4.76735111e+00, 3.72414824e-02, 1.05730385e+00, 5.76058433e+01],\n",
    "    [4.82811977e+00, 2.49997658e-02, 1.06954641e+00, 2.54461380e+01],\n",
    "    [4.48961094e+00, 3.74562922e-02, 1.04943946e+00, 6.19483646e+00],\n",
    "    [5.05605334e+00, 4.87599783e-02, 1.06520409e+00, 3.39024904e+00],\n",
    "    [5.69679328e+00, 7.74915877e-02, 1.04099514e+00, 6.50990466e+01],\n",
    "    [5.10193991e+00, 4.35520544e-02, 1.02502536e+00, 5.51492592e+01],\n",
    "    [4.04791970e+00, 2.38565932e-02, 1.01906882e+00, 2.07875350e+01],\n",
    "    [4.66238956e+00, 5.49901237e-02, 1.02427200e+00, 1.45661275e+01],\n",
    "    [4.86634219e+00, 6.04693570e-02, 1.08199374e+00, 1.05104730e+00],\n",
    "    [4.13519347e+00, 4.45225831e-02, 1.01900124e+00, 5.10117047e+01],\n",
    "    [4.92541940e+00, 7.87692335e-02, 9.91868726e-01, 8.32302238e+01],\n",
    "    [4.70722074e+00, 6.51799251e-02, 1.10608515e+00, 3.30181002e+01],\n",
    "    [4.29040932e+00, 1.75426222e-02, 9.75678838e-01, 2.28186756e+01],\n",
    "    [4.89291400e+00, 2.34997929e-02, 1.07669835e+00, 5.38926138e+01],\n",
    "    [4.44653744e+00, 7.63175936e-02, 1.06979154e+00, 5.19109415e+01],\n",
    "    [3.99977452e+00, 5.80430585e-02, 1.01850716e+00, 7.61988190e+01],\n",
    "    [3.95491570e+00, 1.09302814e-02, 1.03687664e+00, 6.09981789e+01],\n",
    "    [5.16424368e+00, 2.69026464e-02, 1.06673711e+00, 2.88708887e+01],\n",
    "    [5.30491620e+00, 4.53802273e-02, 1.06254792e+00, 3.03856837e+01],\n",
    "    [4.92809155e+00, 1.20616369e-02, 1.00700410e+00, 7.02512744e+00],\n",
    "    [4.68373805e+00, 6.26028935e-02, 1.05152117e+00, 4.81271603e+01],\n",
    "    [5.32381954e+00, 4.33013582e-02, 9.90522007e-01, 6.56015973e+01],\n",
    "    [4.35455857e+00, 1.23814619e-02, 1.01810539e+00, 1.10769534e+01]])\n",
    "\n",
    "signals = ot.NumericalSample(\n",
    "    [[ 37.305445], [ 35.466919], [ 43.187991], [ 45.305165], [ 40.121222], [ 44.609524],\n",
    "     [ 45.14552 ], [ 44.80595 ], [ 35.414039], [ 39.851778], [ 42.046049], [ 34.73469 ],\n",
    "     [ 39.339349], [ 40.384559], [ 38.718623], [ 46.189709], [ 36.155737], [ 31.768369],\n",
    "     [ 35.384313], [ 47.914584], [ 46.758537], [ 46.564428], [ 39.698493], [ 45.636588],\n",
    "     [ 40.643948]])"
   ]
  },
  {
   "cell_type": "code",
   "execution_count": 3,
   "metadata": {
    "collapsed": false
   },
   "outputs": [],
   "source": [
    "# signal detection threshold\n",
    "detection = 38."
   ]
  },
  {
   "cell_type": "markdown",
   "metadata": {},
   "source": [
    "## Build POD with Kriging model\n",
    "### Running the Kriging based POD"
   ]
  },
  {
   "cell_type": "code",
   "execution_count": 4,
   "metadata": {
    "collapsed": false
   },
   "outputs": [
    {
     "name": "stdout",
     "output_type": "stream",
     "text": [
      "Start optimizing covariance model parameters...\n",
      "Kriging optimizer completed\n",
      "kriging validation Q2 (>0.9): 1.0000\n",
      "Computing POD per defect: [==================================================] 100.00% Done\n",
      "CPU times: user 7.49 s, sys: 8.05 s, total: 15.5 s\n",
      "Wall time: 4.87 s\n"
     ]
    }
   ],
   "source": [
    "krigingPOD = otpod.KrigingPOD(inputSample, signals, detection)\n",
    "\n",
    "# we can change all simulation size parameters as we are not interested in having an accurate POD curve\n",
    "krigingPOD.setSamplingSize(200) \n",
    "krigingPOD.setSimulationSize(50)\n",
    "%time krigingPOD.run()"
   ]
  },
  {
   "cell_type": "markdown",
   "metadata": {},
   "source": [
    "### Show POD graphs"
   ]
  },
  {
   "cell_type": "code",
   "execution_count": 5,
   "metadata": {
    "collapsed": false
   },
   "outputs": [
    {
     "name": "stderr",
     "output_type": "stream",
     "text": [
      "/home/dumas/anaconda2/lib/python2.7/site-packages/matplotlib/figure.py:397: UserWarning: matplotlib is currently using a non-GUI backend, so cannot show the figure\n",
      "  \"matplotlib is currently using a non-GUI backend, \"\n"
     ]
    },
    {
     "data": {
      "image/png": "[encoded data removed]",
      "text/plain": [
       "<matplotlib.figure.Figure at 0x7fb7bb241550>"
      ]
     },
     "metadata": {},
     "output_type": "display_data"
    }
   ],
   "source": [
    "fig, ax = krigingPOD.drawPOD(probabilityLevel=0.9, confidenceLevel=0.95,\n",
    "                      name='figure/PODKriging.png')\n",
    "# The figure is saved in PODPolyChaos.png\n",
    "fig.show()"
   ]
  },
  {
   "cell_type": "markdown",
   "metadata": {},
   "source": [
    "## Build POD with polynomial chaos model\n",
    "### Running the chaos based POD"
   ]
  },
  {
   "cell_type": "code",
   "execution_count": 6,
   "metadata": {
    "collapsed": false
   },
   "outputs": [
    {
     "name": "stdout",
     "output_type": "stream",
     "text": [
      "Start build polynomial chaos model...\n",
      "Polynomial chaos model completed\n",
      "Polynomial chaos validation R2 (>0.8) : 0.9999\n",
      "Polynomial chaos validation Q2 (>0.8) : 0.9987\n",
      "Computing POD per defect: [==================================================] 100.00% Done\n",
      "CPU times: user 3.52 s, sys: 428 ms, total: 3.94 s\n",
      "Wall time: 2.01 s\n"
     ]
    }
   ],
   "source": [
    "chaosPOD = otpod.PolynomialChaosPOD(inputSample, signals, detection)\n",
    "\n",
    "# we can change all simulation size parameters as we are not interested in having an accurate POD curve\n",
    "chaosPOD.setSamplingSize(200)\n",
    "chaosPOD.setSimulationSize(50)\n",
    "%time chaosPOD.run()"
   ]
  },
  {
   "cell_type": "markdown",
   "metadata": {},
   "source": [
    "### Show POD graphs"
   ]
  },
  {
   "cell_type": "code",
   "execution_count": 7,
   "metadata": {
    "collapsed": false
   },
   "outputs": [
    {
     "data": {
      "image/png": "[encoded data removed]",
      "text/plain": [
       "<matplotlib.figure.Figure at 0x7fb7b8997b50>"
      ]
     },
     "metadata": {},
     "output_type": "display_data"
    }
   ],
   "source": [
    "fig, ax = chaosPOD.drawPOD(probabilityLevel=0.9, confidenceLevel=0.95,\n",
    "                      name='figure/PODKriging.png')\n",
    "# The figure is saved in PODPolyChaos.png\n",
    "fig.show()"
   ]
  },
  {
   "cell_type": "markdown",
   "metadata": {
    "collapsed": true
   },
   "source": [
    "## Run the sensitivity analysis\n",
    "\n",
    "The sensitivity analysis can only be performed with POD computed with a kriging metamodel.\n",
    "\n",
    "The Sobol indices are aggregated indices computed for the defect sizes defined in the POD study."
   ]
  },
  {
   "cell_type": "code",
   "execution_count": 20,
   "metadata": {
    "collapsed": true
   },
   "outputs": [],
   "source": [
    "# number of simulations\n",
    "N = 1000\n",
    "sobol = otpod.SobolIndices(krigingPOD, N)\n",
    "sobol.run()"
   ]
  },
  {
   "cell_type": "markdown",
   "metadata": {},
   "source": [
    "### Draw the figure with given labels\n",
    "\n",
    "The default labels are $Xi$ but the user can specify its own input labels. Besides, the figure can be saved specifying the attribute *name*."
   ]
  },
  {
   "cell_type": "code",
   "execution_count": 21,
   "metadata": {
    "collapsed": false
   },
   "outputs": [
    {
     "data": {
      "image/png": "[encoded data removed]",
      "text/plain": [
       "<matplotlib.figure.Figure at 0x7fb7b8a85390>"
      ]
     },
     "metadata": {},
     "output_type": "display_data"
    }
   ],
   "source": [
    "fig, ax = sobol.drawIndices(['X1', 'variable2', 'param3'], name='figure/Sobol.png')\n",
    "fig.show()"
   ]
  },
  {
   "cell_type": "markdown",
   "metadata": {},
   "source": [
    "### Get the results\n",
    "\n",
    "The Sobol indices are given in the OpenTURNS object [SobolIndicesAlgorithm](http://doc.openturns.org/openturns-latest/sphinx/user_manual/_generated/openturns.SobolIndicesAlgorithm.html). The method *getSensitivityResult* allows the get this object and then get back all wanted results."
   ]
  },
  {
   "cell_type": "code",
   "execution_count": 24,
   "metadata": {
    "collapsed": false
   },
   "outputs": [
    {
     "name": "stdout",
     "output_type": "stream",
     "text": [
      "Aggregated first order: [0.739595,0.0298695,0.000863044]\n",
      "Aggregated total order: [0.970851,0.24484,0.00314466]\n",
      "\n",
      "First order confidence interval:\n",
      "[0.702773, 0.788013]\n",
      "[0.0134349, 0.0461566]\n",
      "[-0.0015522, 0.00227721]\n",
      "\n",
      "Total order confidence interval:\n",
      "[0.919358, 1.01782]\n",
      "[0.209721, 0.275242]\n",
      "[-0.0258965, 0.0284886]\n"
     ]
    }
   ],
   "source": [
    "# get the OpenTURNS object\n",
    "sobol_result = sobol.getSensitivityResult()\n",
    "\n",
    "# get aggregated indices\n",
    "print(\"Aggregated first order: {}\".format(sobol_result.getAggregatedFirstOrderIndices()))\n",
    "print(\"Aggregated total order: {}\".format(sobol_result.getAggregatedTotalOrderIndices()))\n",
    "\n",
    "# get the confidence interval\n",
    "print('\\nFirst order confidence interval:')\n",
    "print(sobol_result.getFirstOrderIndicesInterval())\n",
    "print('\\nTotal order confidence interval:')\n",
    "print(sobol_result.getTotalOrderIndicesInterval())"
   ]
  },
  {
   "cell_type": "markdown",
   "metadata": {},
   "source": [
    "It is also possible to retreive the Sobol indices for one defect size among the list.\n",
    "\n",
    "As example, we want the indices for the 4th defect size in the list. It may return an error if the indices cannot be computed because no variability exists. It is the case when the POD is equal to 0 or 1."
   ]
  },
  {
   "cell_type": "code",
   "execution_count": 11,
   "metadata": {
    "collapsed": false
   },
   "outputs": [
    {
     "name": "stdout",
     "output_type": "stream",
     "text": [
      "Defect sizes: [ 3.9549157   4.04659347  4.13827123  4.229949    4.32162677  4.41330454\n",
      "  4.5049823   4.59666007  4.68833784  4.78001561  4.87169337  4.96337114\n",
      "  5.05504891  5.14672668  5.23840444  5.33008221  5.42175998  5.51343775\n",
      "  5.60511551  5.69679328]\n",
      "\n",
      "Indices for defect size 4.230: [0.702695,0.00755696,0.000781297]\n"
     ]
    }
   ],
   "source": [
    "print(\"Defect sizes: {}\".format(sobol.getDefectSizes()))\n",
    "# get indices for a specific defect sizes\n",
    "i = 3 # correspond with the 4th value.\n",
    "print(\"\\nIndices for defect size {:.3f}: {}\".format(sobol.getDefectSizes()[i], sobol_result.getFirstOrderIndices(i)))"
   ]
  },
  {
   "cell_type": "markdown",
   "metadata": {},
   "source": [
    "### Change the defect sizes list\n",
    "\n",
    "It is possible to modify the list of the defect sizes either to reduce the range or to compute the indices for a specific defect value. If only one defect size is provided, then the aggregated indices correspond to the indices."
   ]
  },
  {
   "cell_type": "code",
   "execution_count": 12,
   "metadata": {
    "collapsed": false
   },
   "outputs": [],
   "source": [
    "sobol.setDefectSizes([4.5])\n",
    "sobol.run()"
   ]
  },
  {
   "cell_type": "code",
   "execution_count": 13,
   "metadata": {
    "collapsed": false
   },
   "outputs": [
    {
     "name": "stdout",
     "output_type": "stream",
     "text": [
      "Aggregated first order: [0.838856,0.0508052,-4.39928e-05]\n",
      "Aggregated total order: [1.02872,0.170397,5.39622e-06]\n",
      "First order: [0.838856,0.0508052,-4.39928e-05]\n",
      "Total order: [1.02872,0.170397,5.39622e-06]\n"
     ]
    }
   ],
   "source": [
    "# get the OpenTURNS object\n",
    "sobol_result = sobol.getSensitivityResult()\n",
    "# get aggregated indices\n",
    "print(\"Aggregated first order: {}\".format(sobol_result.getAggregatedFirstOrderIndices()))\n",
    "print(\"Aggregated total order: {}\".format(sobol_result.getAggregatedTotalOrderIndices()))\n",
    "# get indices\n",
    "print(\"First order: {}\".format(sobol_result.getFirstOrderIndices()))\n",
    "print(\"Total order: {}\".format(sobol_result.getTotalOrderIndices()))"
   ]
  },
  {
   "cell_type": "markdown",
   "metadata": {},
   "source": [
    "### Change the method to compute the indices\n",
    "\n",
    "OpenTURNS implements 4 methods : Saltelli, Martinez, Jansen and Mauntz-Kucherenko. These methods can be chosen using the method *setSensitivityMethod*."
   ]
  },
  {
   "cell_type": "code",
   "execution_count": 14,
   "metadata": {
    "collapsed": false
   },
   "outputs": [],
   "source": [
    "sobol.setSensitivityMethod(\"Martinez\")\n",
    "sobol.run()"
   ]
  },
  {
   "cell_type": "code",
   "execution_count": 15,
   "metadata": {
    "collapsed": false
   },
   "outputs": [
    {
     "name": "stdout",
     "output_type": "stream",
     "text": [
      "Aggregated first order: [0.843295,0.0284806,-0.00639342]\n",
      "Aggregated total order: [0.980101,0.167099,0.00146274]\n"
     ]
    }
   ],
   "source": [
    "# get the OpenTURNS object\n",
    "sobol_result = sobol.getSensitivityResult()\n",
    "# get aggregated indices\n",
    "print(\"Aggregated first order: {}\".format(sobol_result.getAggregatedFirstOrderIndices()))\n",
    "print(\"Aggregated total order: {}\".format(sobol_result.getAggregatedTotalOrderIndices()))"
   ]
  },
  {
   "cell_type": "markdown",
   "metadata": {
    "collapsed": true
   },
   "source": [
    "## Case with polynomial chaos\n",
    "\n",
    "With polynomial chaos, the POD is computed simulating several polynomial chaos coefficients. Then it requires more times than with Kriging. The number of simulations is initially set to 1000 but it can be changed using the method *setSimulationSize*."
   ]
  },
  {
   "cell_type": "code",
   "execution_count": 16,
   "metadata": {
    "collapsed": false
   },
   "outputs": [
    {
     "name": "stdout",
     "output_type": "stream",
     "text": [
      "CPU times: user 24min 27s, sys: 7.47 s, total: 24min 34s\n",
      "Wall time: 9min 49s\n"
     ]
    }
   ],
   "source": [
    "# number of simulations\n",
    "N = 1000\n",
    "sobol2 = otpod.SobolIndices(chaosPOD, N)\n",
    "#sobol2.setSimulationSize(500)\n",
    "%time sobol2.run()"
   ]
  },
  {
   "cell_type": "code",
   "execution_count": 28,
   "metadata": {
    "collapsed": false
   },
   "outputs": [
    {
     "name": "stdout",
     "output_type": "stream",
     "text": [
      "Aggregated first order: [0.733816,0.0303936,0.00202081]\n",
      "Aggregated total order: [0.912059,0.221395,0.0131351]\n",
      "\n",
      "First order confidence interval:\n",
      "[0.678899, 0.786848]\n",
      "[0.0116883, 0.0509255]\n",
      "[-0.00250095, 0.00641582]\n",
      "\n",
      "Total order confidence interval:\n",
      "[0.854726, 0.961671]\n",
      "[0.179637, 0.266521]\n",
      "[-0.0305622, 0.0515496]\n"
     ]
    }
   ],
   "source": [
    "# get the OpenTURNS object\n",
    "sobol_result2 = sobol2.getSensitivityResult()\n",
    "\n",
    "# get aggregated indices\n",
    "print(\"Aggregated first order: {}\".format(sobol_result2.getAggregatedFirstOrderIndices()))\n",
    "print(\"Aggregated total order: {}\".format(sobol_result2.getAggregatedTotalOrderIndices()))\n",
    "\n",
    "# get the confidence interval\n",
    "print('\\nFirst order confidence interval:')\n",
    "print(sobol_result2.getFirstOrderIndicesInterval())\n",
    "print('\\nTotal order confidence interval:')\n",
    "print(sobol_result2.getTotalOrderIndicesInterval())"
   ]
  },
  {
   "cell_type": "code",
   "execution_count": 29,
   "metadata": {
    "collapsed": false
   },
   "outputs": [
    {
     "data": {
      "image/png": "[encoded data removed]",
      "text/plain": [
       "<matplotlib.figure.Figure at 0x7fb7b8a8f850>"
      ]
     },
     "metadata": {},
     "output_type": "display_data"
    }
   ],
   "source": [
    "fig, ax = sobol2.drawIndices()\n",
    "fig.show()"
   ]
  },
  {
   "cell_type": "code",
   "execution_count": null,
   "metadata": {
    "collapsed": true
   },
   "outputs": [],
   "source": []
  }
 ],
 "metadata": {
  "anaconda-cloud": {},
  "kernelspec": {
   "display_name": "Python [Root]",
   "language": "python",
   "name": "Python [Root]"
  },
  "language_info": {
   "codemirror_mode": {
    "name": "ipython",
    "version": 2
   },
   "file_extension": ".py",
   "mimetype": "text/x-python",
   "name": "python",
   "nbconvert_exporter": "python",
   "pygments_lexer": "ipython2",
   "version": "2.7.12"
  }
 },
 "nbformat": 4,
 "nbformat_minor": 0
}
